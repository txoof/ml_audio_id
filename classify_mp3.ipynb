{
 "cells": [
  {
   "cell_type": "code",
   "execution_count": 7,
   "id": "b3e210e6-d366-4fb9-b846-b5aa3c7fae57",
   "metadata": {},
   "outputs": [],
   "source": [
    "import logging\n",
    "from pathlib import Path\n",
    "import os\n",
    "import sys\n",
    "import argparse\n",
    "import time\n",
    "import json\n",
    "import logging\n",
    "import argparse"
   ]
  },
  {
   "cell_type": "code",
   "execution_count": 8,
   "id": "88d30e7f-5082-45b3-a4b4-f066517e3cfd",
   "metadata": {
    "lines_to_next_cell": 2
   },
   "outputs": [
    {
     "name": "stdout",
     "output_type": "stream",
     "text": [
      "pygame 2.6.1 (SDL 2.28.4, Python 3.12.5)\n",
      "Hello from the pygame community. https://www.pygame.org/contribute.html\n"
     ]
    }
   ],
   "source": [
    "import pygame\n",
    "# from mutagen.mp3 import MP3\n",
    "# from mutagen.id3 import ID3, TIT2"
   ]
  },
  {
   "cell_type": "code",
   "execution_count": 9,
   "id": "7fa1e47e-56b6-49a1-a8b9-0151925b0e19",
   "metadata": {},
   "outputs": [],
   "source": [
    "logger = logging.getLogger(__name__)"
   ]
  },
  {
   "cell_type": "code",
   "execution_count": 11,
   "id": "71918281-57fa-41de-ba25-9f3cb9370a36",
   "metadata": {},
   "outputs": [],
   "source": [
    "def setup_logging(log_level=logging.INFO, log_to_file=False, log_dir=\"logs\"):\n",
    "    \"\"\"\n",
    "    Set up logging configuration for the project.\n",
    "\n",
    "    Parameters:\n",
    "    log_level (int): Logging level (e.g., logging.DEBUG, logging.INFO).\n",
    "    log_to_file (bool): If True, logs will also be written to a file.\n",
    "    log_dir (str or Path): Directory where the log file will be saved if `log_to_file` is True.\n",
    "    \"\"\"\n",
    "    \n",
    "    # Set up log format\n",
    "    log_format = \"%(asctime)s %(levelname)s: %(message)s\"\n",
    "    datefmt = \"%y%m%d %H%M.%S\"  # Custom date format YY.MM.DD-HHMM.SS\n",
    "    \n",
    "    # Configure the root logger\n",
    "    logging.basicConfig(level=log_level, format=log_format, datefmt=datefmt)\n",
    "    \n",
    "    if log_to_file:\n",
    "        # Ensure log directory exists\n",
    "        log_dir = Path(log_dir)\n",
    "        log_dir.mkdir(parents=True, exist_ok=True)\n",
    "        \n",
    "        # Set up file handler\n",
    "        file_handler = logging.FileHandler(log_dir / \"project.log\")\n",
    "        file_handler.setLevel(log_level)\n",
    "        file_handler.setFormatter(logging.Formatter(log_format))\n",
    "        logging.getLogger().addHandler(file_handler)"
   ]
  },
  {
   "cell_type": "code",
   "execution_count": 12,
   "id": "b01c377a-2af7-45cf-a18b-d83f9a4e15fd",
   "metadata": {},
   "outputs": [],
   "source": [
    "def locate_mp3_files(root_dir, glob=\"*.mp3\"):\n",
    "    \"\"\"Recursively locate all MP3 files within a given directory path.\"\"\"\n",
    "    mp3_files = []\n",
    "    root_path = Path(root_dir)\n",
    "    logging.info(f\"Searching '{root_dir}' for '{glob}' files.\")\n",
    "    if root_path.exists() and root_path.is_dir():\n",
    "        mp3_files = list(root_path.rglob(glob))\n",
    "        logging.info(f\"Found {len(mp3_files)} MP3 files in '{root_dir}'.\")\n",
    "    else:\n",
    "        logging.warning(f\"Directory '{root_dir}' does not exist or is not accessible.\")\n",
    "    return mp3_files"
   ]
  },
  {
   "cell_type": "code",
   "execution_count": 13,
   "id": "197dd215-abe2-4d42-a73c-c19dcb43a3ea",
   "metadata": {},
   "outputs": [],
   "source": [
    "def parse_arguments():\n",
    "    \"\"\"Parse command-line arguments for the MP3 player.\"\"\"\n",
    "    parser = argparse.ArgumentParser(description=\"MP3 Player with Classification\")\n",
    "    parser.add_argument(\"mp3_directory\", type=str, help=\"Directory containing MP3 files to classify\")\n",
    "    parser.add_argument(\"-l\", \"--log_path\", type=str, help=\"Directory for log file output if logging to file\")\n",
    "    parser.add_argument(\"--record_file\", type=str, default=\"track_classifications.json\", help=\"File to store classification records (JSON format)\")\n",
    "    parser.add_argument(\"-v\", \"--verbose\", action=\"count\", default=0, help=\"Increase verbosity level (use -vv for DEBUG)\")\n",
    "    parser.add_argument(\"--log_to_file\", action=\"store_true\", help=\"Enable logging to a file in the logs directory\")\n",
    "    return parser.parse_args()"
   ]
  },
  {
   "cell_type": "code",
   "execution_count": null,
   "id": "b36d2f9c-4b1e-4973-a6d7-67d0a96126b1",
   "metadata": {},
   "outputs": [],
   "source": [
    "def play_mp3(file_path):\n",
    "    # Load and play an mp3 file\n",
    "    pygame.mixer.init()\n",
    "    pygame.mixer.music.load(file_path)\n",
    "    pygame.mixer.music.play()"
   ]
  },
  {
   "cell_type": "code",
   "execution_count": 18,
   "id": "c38e45cb-d0df-4b23-aebd-b18444554777",
   "metadata": {},
   "outputs": [
    {
     "ename": "SyntaxError",
     "evalue": "expected ':' (3866112503.py, line 48)",
     "output_type": "error",
     "traceback": [
      "\u001b[0;36m  Cell \u001b[0;32mIn[18], line 48\u001b[0;36m\u001b[0m\n\u001b[0;31m    for event in pygame.event.get()\u001b[0m\n\u001b[0m                                   ^\u001b[0m\n\u001b[0;31mSyntaxError\u001b[0m\u001b[0;31m:\u001b[0m expected ':'\n"
     ]
    }
   ],
   "source": [
    "def save_classification(mp3, current_tag, classifications, record_file):\n",
    "    if current_tag != \"None\" and mp3.name not in classifications:\n",
    "        classifications[mp3.name] = current_tag\n",
    "        with record_file.open(\"w\") as file:\n",
    "            json.dump(classifications, file, indent=4)\n",
    "        logging.info(f\"Classification for '{mp3.name}' saved as '{current_tag}'.\")\n",
    "\n",
    "def main():\n",
    "    # Initialize pygame\n",
    "    pygame.init()\n",
    "\n",
    "    # Parse command-line arguments\n",
    "    args = parse_arguments()\n",
    "\n",
    "    # Set logging level based on verbosity count (-v)\n",
    "    log_levels = [logging.WARNING, logging.INFO, logging.DEBUG]\n",
    "    log_level = log_levels[min(args.verbose, len(log_levels) - 1)]\n",
    "\n",
    "    # Set up logging with the specified verbosity and optional file logging\n",
    "    setup_logging(log_level=log_level, log_to_file=args.log_to_file)\n",
    "\n",
    "    # Set MP3 directory and record file\n",
    "    MP3_DIRECTORY = Path(args.mp3_directory)\n",
    "    RECORD_FILE = Path(args.record_file)\n",
    "\n",
    "    # Load existing classifications or initialize an empty dictionary\n",
    "    if RECORD_FILE.exists():\n",
    "        with RECORD_FILE.open(\"r\") as file:\n",
    "            classifications = json.load(file)\n",
    "        logging.info(f\"Loaded existing classifications from '{RECORD_FILE}'.\")\n",
    "    else:\n",
    "        classifications = {}\n",
    "        logging.info(f\"No existing classification file found. Starting fresh.\")\n",
    "\n",
    "    # Locate MP3 files in the specified directory and prune out any files that appear in the record file\n",
    "    mp3_files = [mp3 for mp3 in locate_mp3_files(MP3_DIRECTORY) if mp3.name not in classifications]\n",
    "    \n",
    "    # Set up pygame window\n",
    "    screen_width, screen_height = 1000, 800\n",
    "    screen = pygame.display.set_mode((screen_width, screen_height))\n",
    "    pygame.display.set_caption('MP3 Classification')\n",
    "    font = pygame.font.Font(None, 24)\n",
    "    progress_font = pygame.font.Font(None, 36)\n",
    "    control_font = pygame.font.Font(None, 28)  # Increase font size for better readability\n",
    "    tag_font = pygame.font.Font(None, 28)  # Font for audio tagging controls\n",
    "\n",
    "    current_tag = \"None\"\n",
    "    tagged_count = 0\n",
    "\n",
    "    # Main loop\n",
    "    running = True\n",
    "    selected_index = 0\n",
    "    while running:\n",
    "        mp3 = mp3_files[selected_index]\n",
    "        current_tag = classifications.get(mp3.name, \"None\")\n",
    "        \n",
    "        # Display the total number of items in the mp3_files list\n",
    "        screen.fill((30, 30, 30))\n",
    "        total_items_text = f\"Tagged: {tagged_count}/{len(mp3_files)}\"\n",
    "        total_items_surface = font.render(total_items_text, True, (255, 255, 255))\n",
    "        screen.blit(total_items_surface, (50, 10))\n",
    "\n",
    "        # Display the selected MP3 file name\n",
    "        name = ' '.join(mp3.name.split('_'))\n",
    "        text = font.render(name, True, (255, 255, 255))\n",
    "        screen.blit(text, (50, 50))\n",
    "        pygame.display.flip()\n",
    "\n",
    "        # Play the selected MP3 file\n",
    "        play_mp3(mp3)\n",
    "        track_length = pygame.mixer.Sound(mp3).get_length()\n",
    "        start_time = time.time()\n",
    "\n",
    "        # Wait for user to press a key\n",
    "        waiting_for_key = True\n",
    "        while waiting_for_key:\n",
    "            # Update the track progress display\n",
    "            elapsed_time = time.time() - start_time\n",
    "            remaining_time = max(0, track_length - elapsed_time)\n",
    "            progress_text = f\"Total Length: {int(track_length)}s / Remaining: {int(remaining_time)}s\"\n",
    "            progress = elapsed_time / track_length if track_length > 0 else 0\n",
    "\n",
    "            # Draw progress text and progress bar\n",
    "            screen.fill((30, 30, 30), (50, 100, 900, 300))  # Clear previous progress and controls\n",
    "            progress_text_surface = progress_font.render(progress_text, True, (255, 255, 255))\n",
    "            screen.blit(progress_text_surface, (50, 100))\n",
    "            pygame.draw.rect(screen, (0, 255, 0), (50, 150, int(900 * progress), 20))\n",
    "\n",
    "            # Draw current tag\n",
    "            pygame.draw.rect(screen, (100, 100, 100), (45, 230, 910, 40))  # Gray box for current tag\n",
    "            current_tag_surface = control_font.render(f\"Current Tag: {current_tag}\", True, (255, 255, 255))\n",
    "            screen.blit(current_tag_surface, (50, 240))\n",
    "\n",
    "            # Draw tagging options\n",
    "            tag_text = \"Audio Tag: [D]ialogue | [M]usic | [B]oth | [N]one\"\n",
    "            tag_text_surface = tag_font.render(tag_text, True, (255, 255, 255))\n",
    "            screen.blit(tag_text_surface, (50, 280))\n",
    "\n",
    "            # Draw control options\n",
    "            control_text = \"Controls: [UP] Prev | [DOWN] Next | [LEFT] Rew | [RIGHT] FF | [Q]uit\"\n",
    "            control_text_surface = control_font.render(control_text, True, (255, 255, 255))\n",
    "            screen.blit(control_text_surface, (50, 320))\n",
    "\n",
    "            pygame.display.flip()\n",
    "\n",
    "            for event in pygame.event.get():\n",
    "                if event.type == pygame.QUIT:\n",
    "                    if current_tag != \"None\" and mp3.name not in classifications:\n",
    "                        save_classification(mp3, current_tag, classifications, RECORD_FILE)\n",
    "                        tagged_count += 1\n",
    "                        tagged_count += 1\n",
    "                    running = False\n",
    "                    waiting_for_key = False\n",
    "                    pygame.quit()\n",
    "                    return\n",
    "                elif event.type == pygame.KEYDOWN:\n",
    "                    if event.key == pygame.K_UP:\n",
    "                        selected_index = (selected_index - 1) % len(mp3_files)\n",
    "                        waiting_for_key = False\n",
    "                    elif event.key == pygame.K_DOWN:\n",
    "                        save_classification(mp3, current_tag, classifications, RECORD_FILE)\n",
    "                        if current_tag != \"None\" and mp3.name not in classifications:\n",
    "                            tagged_count += 1\n",
    "                        selected_index = (selected_index + 1) % len(mp3_files)\n",
    "                        waiting_for_key = False\n",
    "                    # Handle fast-forward action only if the music is playing\n",
    "                    if event.key == pygame.K_RIGHT:\n",
    "                        if pygame.mixer.music.get_busy():\n",
    "                            new_pos = pygame.mixer.music.get_pos() / 1000 + 1\n",
    "                            if new_pos < track_length:\n",
    "                                pygame.mixer.music.set_pos(new_pos)\n",
    "                                start_time -= 2\n",
    "                            pygame.mixer.music.set_pos(new_pos)\n",
    "                            start_time -= 2\n",
    "                    # Handle rewind action only if the music is playing\n",
    "                    if event.key == pygame.K_LEFT:\n",
    "                        if pygame.mixer.music.get_busy():\n",
    "                            new_pos = max(0, pygame.mixer.music.get_pos() / 1000 - 3)\n",
    "                            pygame.mixer.music.set_pos(new_pos)\n",
    "                            start_time += 2\n",
    "                        start_time += 2\n",
    "                    elif event.key == pygame.K_RETURN:\n",
    "                        waiting_for_key = False\n",
    "                    elif event.key == pygame.K_q:\n",
    "                        save_classification(mp3, current_tag, classifications, RECORD_FILE)\n",
    "                        if current_tag != \"None\" and mp3.name not in classifications:\n",
    "                            tagged_count += 1\n",
    "                        running = False\n",
    "                        waiting_for_key = False\n",
    "                    elif event.key == pygame.K_d:\n",
    "                        current_tag = \"Dialogue\"\n",
    "                    elif event.key == pygame.K_m:\n",
    "                        current_tag = \"Music\"\n",
    "                    elif event.key == pygame.K_b:\n",
    "                        current_tag = \"Both\"\n",
    "                    elif event.key == pygame.K_n:\n",
    "                        current_tag = \"None\"\n",
    "\n",
    "    # Quit pygame\n",
    "    pygame.quit()\n",
    "    "
   ]
  },
  {
   "cell_type": "code",
   "execution_count": 16,
   "id": "a774a119-b5f3-41a5-8f47-b19b35965398",
   "metadata": {},
   "outputs": [
    {
     "name": "stderr",
     "output_type": "stream",
     "text": [
      "usage: ipykernel_launcher.py [-h] [-l LOG_PATH] [--record_file RECORD_FILE]\n",
      "                             [-v] [--log_to_file]\n",
      "                             mp3_directory\n",
      "ipykernel_launcher.py: error: unrecognized arguments: -f\n"
     ]
    },
    {
     "ename": "SystemExit",
     "evalue": "2",
     "output_type": "error",
     "traceback": [
      "An exception has occurred, use %tb to see the full traceback.\n",
      "\u001b[0;31mSystemExit\u001b[0m\u001b[0;31m:\u001b[0m 2\n"
     ]
    },
    {
     "name": "stderr",
     "output_type": "stream",
     "text": [
      "/Users/aaronciuffo/Documents/src/ml_audio_id/ml_audio_id-venv-9ab27db4d3/lib/python3.12/site-packages/IPython/core/interactiveshell.py:3585: UserWarning: To exit: use 'exit', 'quit', or Ctrl-D.\n",
      "  warn(\"To exit: use 'exit', 'quit', or Ctrl-D.\", stacklevel=1)\n"
     ]
    }
   ],
   "source": [
    "if __name__ == \"__main__\":\n",
    "    main()"
   ]
  },
  {
   "cell_type": "code",
   "execution_count": null,
   "id": "6951d6ab-aa3a-4dc1-9d73-c82984295ad5",
   "metadata": {},
   "outputs": [],
   "source": []
  }
 ],
 "metadata": {
  "jupytext": {
   "executable": " /usr/bin/env python"
  },
  "kernelspec": {
   "display_name": "ml_audio_id-venv-9ab27db4d3",
   "language": "python",
   "name": "ml_audio_id-venv-9ab27db4d3"
  },
  "language_info": {
   "codemirror_mode": {
    "name": "ipython",
    "version": 3
   },
   "file_extension": ".py",
   "mimetype": "text/x-python",
   "name": "python",
   "nbconvert_exporter": "python",
   "pygments_lexer": "ipython3",
   "version": "3.12.5"
  }
 },
 "nbformat": 4,
 "nbformat_minor": 5
}
