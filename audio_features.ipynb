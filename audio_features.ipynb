{
 "cells": [
  {
   "cell_type": "code",
   "execution_count": 17,
   "id": "36fb3ab3-7d20-4e3b-b9dc-86b1b7cfe8a0",
   "metadata": {},
   "outputs": [],
   "source": [
    "from pathlib import Path\n",
    "import librosa\n",
    "import numpy as np\n",
    "import logging\n",
    "import pandas as pd\n",
    "from joblib import Parallel, delayed\n",
    "from tqdm import tqdm\n",
    "\n",
    "# Configure logging for importable module\n",
    "logger = logging.getLogger(__name__)"
   ]
  },
  {
   "cell_type": "code",
   "execution_count": 4,
   "id": "438d145f-295f-45d2-be5a-315b314279ea",
   "metadata": {},
   "outputs": [],
   "source": [
    "def extract_features(file_path):\n",
    "    \"\"\"\n",
    "    Extracts audio features from a given audio file.\n",
    "\n",
    "    Parameters:\n",
    "    file_path (Path): Path to the audio file.\n",
    "\n",
    "    Returns:\n",
    "    numpy.ndarray: Feature vector containing consistently reduced audio features.\n",
    "    \"\"\"\n",
    "    y, sr = librosa.load(file_path, sr=None)\n",
    "\n",
    "    # Extract MFCCs (mean and standard deviation of each coefficient across time)\n",
    "    mfccs = librosa.feature.mfcc(y=y, sr=sr, n_mfcc=13)\n",
    "    mfccs_mean = np.mean(mfccs, axis=1)\n",
    "    mfccs_std = np.std(mfccs, axis=1)\n",
    "\n",
    "    # Extract Zero-Crossing Rate (mean)\n",
    "    zcr = librosa.feature.zero_crossing_rate(y)\n",
    "    zcr_mean = np.mean(zcr)\n",
    "\n",
    "    # Extract Spectral Contrast (mean and standard deviation)\n",
    "    spectral_contrast = librosa.feature.spectral_contrast(y=y, sr=sr)\n",
    "    spectral_contrast_mean = np.mean(spectral_contrast, axis=1)\n",
    "    spectral_contrast_std = np.std(spectral_contrast, axis=1)\n",
    "\n",
    "    # Extract Chroma Features (mean and standard deviation)\n",
    "    chroma = librosa.feature.chroma_stft(y=y, sr=sr)\n",
    "    chroma_mean = np.mean(chroma, axis=1)\n",
    "    chroma_std = np.std(chroma, axis=1)\n",
    "\n",
    "    # Extract Spectral Rolloff (mean)\n",
    "    spectral_rolloff = librosa.feature.spectral_rolloff(y=y, sr=sr)\n",
    "    spectral_rolloff_mean = np.mean(spectral_rolloff)\n",
    "\n",
    "    # Extract Spectral Centroid (mean)\n",
    "    spectral_centroid = librosa.feature.spectral_centroid(y=y, sr=sr)\n",
    "    spectral_centroid_mean = np.mean(spectral_centroid)\n",
    "\n",
    "    # Extract RMS Energy (mean)\n",
    "    rms = librosa.feature.rms(y=y)\n",
    "    rms_mean = np.mean(rms)\n",
    "\n",
    "    # Combine selected features into a single feature vector\n",
    "    features = np.concatenate((\n",
    "        mfccs_mean,\n",
    "        mfccs_std,\n",
    "        [zcr_mean],\n",
    "        spectral_contrast_mean,\n",
    "        spectral_contrast_std,\n",
    "        chroma_mean,\n",
    "        chroma_std,\n",
    "        [spectral_rolloff_mean],\n",
    "        [spectral_centroid_mean],\n",
    "        [rms_mean]\n",
    "    ))\n",
    "\n",
    "    return features\n"
   ]
  },
  {
   "cell_type": "code",
   "execution_count": 10,
   "id": "9def5bcd-8517-4df9-aec2-ae8ba4204b2b",
   "metadata": {},
   "outputs": [],
   "source": [
    "p = Path('./TRAINING_DATA/')"
   ]
  },
  {
   "cell_type": "code",
   "execution_count": 12,
   "id": "be87a5b0-1d05-41a1-a31d-1f8360373ff1",
   "metadata": {},
   "outputs": [
    {
     "data": {
      "text/plain": [
       "False"
      ]
     },
     "execution_count": 12,
     "metadata": {},
     "output_type": "execute_result"
    }
   ],
   "source": [
    "isinstance(p, str)"
   ]
  },
  {
   "cell_type": "code",
   "execution_count": 13,
   "id": "692af53f-fb8f-4483-8f81-5caccbed8a9a",
   "metadata": {},
   "outputs": [],
   "source": [
    "# Extract features from all audio files\n",
    "def extract_features_from_directory(audio_dir):\n",
    "    \"\"\"\n",
    "    Extracts features from all audio files in a given directory using parallel processing to utilize multiple cores.\n",
    "\n",
    "    Parameters:\n",
    "    audio_dir (Path or str): Path to the directory containing audio files.\n",
    "\n",
    "    Returns:\n",
    "    tuple: A tuple containing a numpy array of feature vectors and a list of filenames.\n",
    "    \"\"\"\n",
    "\n",
    "    if not isinstance(audio_dir, Path):\n",
    "        audio_dir = Path(audio_dir)\n",
    "    \n",
    "    filenames = [filename for filename in audio_dir.iterdir() if filename.suffix == '.mp3']\n",
    "    \n",
    "    logging.info(f'Found {len(filenames)} audio files in {audio_dir}')\n",
    "    \n",
    "    # Use tqdm to show progress indicator\n",
    "    feature_list = Parallel(n_jobs=-1)(delayed(extract_features)(filename) for filename in tqdm(filenames, desc='Extracting features'))\n",
    "    \n",
    "    return np.array(feature_list), filenames"
   ]
  },
  {
   "cell_type": "code",
   "execution_count": 14,
   "id": "9a3f5614-634a-4b2f-9799-2ff7ba8ebe95",
   "metadata": {},
   "outputs": [],
   "source": [
    "def write_features_to_file(features, filenames, output_file):\n",
    "    \"\"\"\n",
    "    Writes the extracted features and corresponding filenames to a file.\n",
    "\n",
    "    Parameters:\n",
    "    features (np.ndarray): Array of feature vectors.\n",
    "    filenames (list): List of filenames corresponding to the features.\n",
    "    output_file (str): Path to the output file.\n",
    "    \"\"\"\n",
    "    df = pd.DataFrame(features)\n",
    "    df['Filename'] = filenames\n",
    "    df.to_csv(output_file, index=False)\n",
    "    logger.info(f'Features written to {output_file}')\n",
    "\n",
    "def read_features_from_file(input_file):\n",
    "    \"\"\"\n",
    "    Reads features and filenames from a file.\n",
    "\n",
    "    Parameters:\n",
    "    input_file (str): Path to the input file containing features and filenames.\n",
    "\n",
    "    Returns:\n",
    "    tuple: A tuple containing a numpy array of feature vectors and a list of filenames.\n",
    "    \"\"\"\n",
    "    df = pd.read_csv(input_file)\n",
    "    filenames = df['Filename'].tolist()\n",
    "    features = df.drop(columns=['Filename']).values\n",
    "    logger.info(f'Features read from {input_file}')\n",
    "    return features, filenames"
   ]
  }
 ],
 "metadata": {
  "kernelspec": {
   "display_name": "ml_audio_id-venv-9ab27db4d3",
   "language": "python",
   "name": "ml_audio_id-venv-9ab27db4d3"
  },
  "language_info": {
   "codemirror_mode": {
    "name": "ipython",
    "version": 3
   },
   "file_extension": ".py",
   "mimetype": "text/x-python",
   "name": "python",
   "nbconvert_exporter": "python",
   "pygments_lexer": "ipython3",
   "version": "3.12.5"
  }
 },
 "nbformat": 4,
 "nbformat_minor": 5
}
