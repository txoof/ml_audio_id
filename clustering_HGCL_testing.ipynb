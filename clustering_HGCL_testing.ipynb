{
 "cells": [
  {
   "cell_type": "code",
   "execution_count": 34,
   "id": "7c458471-6794-4952-ac0a-7b8858b4a5fb",
   "metadata": {},
   "outputs": [
    {
     "name": "stdout",
     "output_type": "stream",
     "text": [
      "The autoreload extension is already loaded. To reload it, use:\n",
      "  %reload_ext autoreload\n"
     ]
    }
   ],
   "source": [
    "%load_ext autoreload\n",
    "%autoreload 2\n",
    "%reload_ext autoreload"
   ]
  },
  {
   "cell_type": "markdown",
   "id": "38885cd7-fbf1-4f7e-a30b-3ff5541b1ae1",
   "metadata": {},
   "source": [
    "# Hierarchical Cluster Guided Labeling (HCGL)\n",
    "\n",
    "This method is based on the paper [*Efficient Label Collection for Unlabeled Image Datasets*](./Wigness_Efficient_Label_Collection_2015_CVPR_paper.pdf)"
   ]
  },
  {
   "cell_type": "code",
   "execution_count": 101,
   "id": "54cdbe74-509f-477d-a6b9-43bd2334ed97",
   "metadata": {},
   "outputs": [],
   "source": [
    "from pathlib import Path\n",
    "import audio_features\n",
    "import numpy as np\n",
    "import scipy.cluster.hierarchy as sch\n",
    "import matplotlib.pyplot as plt\n",
    "import pandas as pd\n",
    "from scipy.cluster.hierarchy import fcluster\n",
    "import random\n",
    "import IPython.display as ipd\n",
    "import time\n",
    "from sklearn.model_selection import train_test_split\n",
    "from sklearn.ensemble import RandomForestClassifier\n",
    "from sklearn.metrics import classification_report, accuracy_score\n",
    "import json"
   ]
  },
  {
   "cell_type": "code",
   "execution_count": 91,
   "id": "c8cf4907-ed87-4445-b2e4-3fd123efe614",
   "metadata": {},
   "outputs": [],
   "source": [
    "def read_classifications(output_file):\n",
    "    \"\"\"\n",
    "    Read the specified file and return the count of each category\n",
    "    \"\"\"\n",
    "    output_file = Path(output_file)\n",
    "    \n",
    "    classified_tracks = set()\n",
    "    classifications = {'M': 0, 'D': 0, 'B': 0}\n",
    "    if output_file.exists():\n",
    "        classified_df = pd.read_csv(output_file)\n",
    "        classified_tracks.update(classified_df['Filename'].tolist())\n",
    "        # Update the classification counts with existing data\n",
    "        existing_classifications = classified_df['Classification'].value_counts().to_dict()\n",
    "        for key in ['M', 'D', 'B']:\n",
    "            if key in existing_classifications:\n",
    "                classifications[key] += existing_classifications[key]\n",
    "                \n",
    "    total_classifications = sum(classifications.values())\n",
    "\n",
    "    if total_classifications > 0:\n",
    "        dialog_pct = classifications[\"D\"] / total_classifications\n",
    "        music_both_pct = (classifications[\"M\"] + classifications[\"B\"]) / total_classifications    \n",
    "    return classifications, {'Music & Both': music_both_pct, 'Dialogue': dialog_pct}"
   ]
  },
  {
   "cell_type": "code",
   "execution_count": 93,
   "id": "f6676d3a-f9f3-4284-a46f-1a5b42cbceb4",
   "metadata": {},
   "outputs": [],
   "source": [
    "import random\n",
    "import IPython.display as ipd\n",
    "import time\n",
    "def play_and_classify_m3u(m3u_file, output_file=None, num_tracks=20):\n",
    "    \"\"\"\n",
    "    Play a specified or random number of items from an M3U file, ask user to classify as M, D, B, \n",
    "    and record the values in a file, displaying the ratio of M, D, B.\n",
    "    Press 'Q' to quit at any time.\n",
    "    \n",
    "    Parameters:\n",
    "    m3u_file (str or Path): Path to the M3U file.\n",
    "    output_file (str or Path): Path to the output file where classifications are saved.\n",
    "    num_tracks (int, optional): Number of tracks to play. If None, a random number of tracks will be played.\n",
    "    \"\"\"\n",
    "    m3u_file = Path(m3u_file)\n",
    "\n",
    "    if not output_file:\n",
    "        output_file = m3u_file.parent / (m3u_file.stem + '_classification.csv')\n",
    "    else:\n",
    "        output_file = Path(output_file)\n",
    "    \n",
    "    # Read M3U file\n",
    "    with m3u_file.open('r') as f:\n",
    "        lines = f.readlines()\n",
    "    \n",
    "    # Filter lines to get only filenames (skip #EXTM3U and other comments)\n",
    "    tracks = [line.strip() for line in lines if not line.startswith('#')]\n",
    "    \n",
    "    # Read existing classifications if the output file exists\n",
    "    classified_tracks = set()\n",
    "    classifications = {'M': 0, 'D': 0, 'B': 0}\n",
    "    if output_file.exists():\n",
    "        # classified_df = pd.read_csv(output_file)\n",
    "        # classified_tracks.update(classified_df['Filename'].tolist())\n",
    "        # # Update the classification counts with existing data\n",
    "        # existing_classifications = classified_df['Classification'].value_counts().to_dict()\n",
    "        # for key in ['M', 'D', 'B']:\n",
    "        #     if key in existing_classifications:\n",
    "        #         classifications[key] += existing_classifications[key]\n",
    "        classifications, totals = read_classifications(output_file)\n",
    "    else:\n",
    "        with output_file.open('w') as out_file:\n",
    "            out_file.write('Filename,Classification\\n')\n",
    "    \n",
    "    # Filter out tracks that have already been classified\n",
    "    tracks_to_play = [track for track in tracks if track not in classified_tracks]\n",
    "    \n",
    "    # Randomly shuffle the list of tracks to play\n",
    "    random.shuffle(tracks_to_play)\n",
    "    \n",
    "    # Determine the number of tracks to play\n",
    "    num_tracks = min(num_tracks, len(tracks_to_play))\n",
    "    \n",
    "    # Open output file for appending classifications\n",
    "    with output_file.open('a') as out_file:\n",
    "        # Play each track and ask for classification\n",
    "        for i in range(num_tracks):\n",
    "            track = tracks_to_play[i]\n",
    "            print(f\"Playing track {i + 1} of {num_tracks}: {track}\")\n",
    "            \n",
    "            # Automatically play the audio file\n",
    "            audio = ipd.Audio(track, autoplay=True)\n",
    "            display_handle = ipd.display(audio, display_id=True)\n",
    "            \n",
    "            # Get user classification (M, D, B, or Q to quit)\n",
    "            classification = None\n",
    "            while classification not in ['M', 'D', 'B', 'Q']:\n",
    "                classification = input(\"Classify this track as M (Music), D (Dialogue), B (Both), or Q (Quit): \").upper()\n",
    "                if classification == 'Q':\n",
    "                    print(\"Quitting...\")\n",
    "                    return\n",
    "            \n",
    "            # Record classification if not quitting\n",
    "            if classification != 'Q':\n",
    "                classifications[classification] += 1\n",
    "                out_file.write(f\"{track},{classification}\\n\")\n",
    "            \n",
    "            # Pause between tracks\n",
    "            time.sleep(1)\n",
    "            display_handle.update(ipd.HTML(''))\n",
    "    \n",
    "    # Calculate and display ratio of classifications\n",
    "    total_classifications = sum(classifications.values())\n",
    "    print(\"\\nClassification Ratios:\")\n",
    "    for key, value in classifications.items():\n",
    "        ratio = value / total_classifications if total_classifications > 0 else 0\n",
    "        print(f\"{key}: {ratio:.2f}\")\n",
    "    dialog_pct = classifications[\"D\"] / total_classifications\n",
    "    music_both_pct = (classifications[\"M\"] + classifications[\"B\"]) / total_classifications\n",
    "    print(f\"Music & Both: {music_both_pct * 100}; Dialogue: {dialog_pct * 100}\")\n",
    "    return classifications"
   ]
  },
  {
   "cell_type": "markdown",
   "id": "3ee687de-8404-48c6-9cd1-45cfc9f0bc33",
   "metadata": {},
   "source": [
    "## Load extracted features\n",
    "\n",
    "Features such as chroma, zero-mean-crossing, RMS energy, etc. have been extracted and stored in a CSV file. "
   ]
  },
  {
   "cell_type": "code",
   "execution_count": 11,
   "id": "9cc7238b-08e2-4eff-a690-6e075366f60f",
   "metadata": {},
   "outputs": [],
   "source": [
    "feature_file = Path('241103_1441_features.csv')\n",
    "training_data = Path('./TRAINING_DATA/PREPARED/outro/')\n",
    "\n",
    "features, filenames = audio_features.read_features_from_file(feature_file)"
   ]
  },
  {
   "cell_type": "markdown",
   "id": "10a65aa7-59ee-46eb-88fc-d2b105c11189",
   "metadata": {},
   "source": [
    "## Perform Hiearchical Clustering\n",
    "\n",
    "Use scipy linkages method to agglomerate the features. Various strategies are tested here. The goal is to find the best vertical cutoff that shows groupings that are easy to distinguish, have low vertical distance within the clusters and high vertical distance between other clusters. It appears that the **ward**, **median** and **average** mtehods are the most promising for distinguishing between tracks that contain *some* music versus clusters that contain only dialogue. "
   ]
  },
  {
   "cell_type": "code",
   "execution_count": 21,
   "id": "7dc17a21-ac1a-422b-880b-7201adfe1745",
   "metadata": {},
   "outputs": [
    {
     "data": {
      "image/png": "[encoded data removed]",
      "text/plain": [
       "<Figure size 1000x700 with 1 Axes>"
      ]
     },
     "metadata": {},
     "output_type": "display_data"
    },
    {
     "data": {
      "image/png": "[encoded data removed]",
      "text/plain": [
       "<Figure size 1000x700 with 1 Axes>"
      ]
     },
     "metadata": {},
     "output_type": "display_data"
    },
    {
     "data": {
      "image/png": "[encoded data removed]",
      "text/plain": [
       "<Figure size 1000x700 with 1 Axes>"
      ]
     },
     "metadata": {},
     "output_type": "display_data"
    },
    {
     "data": {
      "image/png": "[encoded data removed]",
      "text/plain": [
       "<Figure size 1000x700 with 1 Axes>"
      ]
     },
     "metadata": {},
     "output_type": "display_data"
    },
    {
     "data": {
      "image/png": "[encoded data removed]",
      "text/plain": [
       "<Figure size 1000x700 with 1 Axes>"
      ]
     },
     "metadata": {},
     "output_type": "display_data"
    },
    {
     "data": {
      "image/png": "[encoded data removed]",
      "text/plain": [
       "<Figure size 1000x700 with 1 Axes>"
      ]
     },
     "metadata": {},
     "output_type": "display_data"
    },
    {
     "data": {
      "image/png": "[encoded data removed]",
      "text/plain": [
       "<Figure size 1000x700 with 1 Axes>"
      ]
     },
     "metadata": {},
     "output_type": "display_data"
    }
   ],
   "source": [
    "for i in ['single', 'complete', 'average', 'ward', 'weighted', 'centroid', 'median']:\n",
    "    linkage_matrix = sch.linkage(features, method=i)\n",
    "    plt.figure(figsize=(10, 7))\n",
    "    sch.dendrogram(linkage_matrix, no_labels=True)\n",
    "    plt.title(f'Hierarchical Clustering Dendrogram: {i}')\n",
    "    plt.xlabel('Sample Index (Cluster Size)')\n",
    "    plt.ylabel('Distance')\n",
    "    plt.show()"
   ]
  },
  {
   "cell_type": "markdown",
   "id": "71cf6dee-8e59-4926-898d-2bafe7dea97f",
   "metadata": {},
   "source": [
    "### Test Methods"
   ]
  },
  {
   "cell_type": "code",
   "execution_count": 22,
   "id": "0d1779e5-d386-43c4-b4a2-d0e7ccd9ee10",
   "metadata": {},
   "outputs": [],
   "source": []
  },
  {
   "cell_type": "code",
   "execution_count": 96,
   "id": "b71706b8-7b3c-4938-a70f-191bfd167d9a",
   "metadata": {},
   "outputs": [
    {
     "name": "stdout",
     "output_type": "stream",
     "text": [
      "Playing track 1 of 1: TRAINING_DATA/PREPARED/outro/015-20240926_me_oklahoma_prisoner_emmanuel_littlejohn_asks_for_clemency_chunk_1.mp3\n"
     ]
    },
    {
     "data": {
      "text/html": [],
      "text/plain": [
       "<IPython.core.display.HTML object>"
      ]
     },
     "metadata": {},
     "output_type": "display_data"
    },
    {
     "name": "stdin",
     "output_type": "stream",
     "text": [
      "Classify this track as M (Music), D (Dialogue), B (Both), or Q (Quit):  b\n"
     ]
    },
    {
     "name": "stdout",
     "output_type": "stream",
     "text": [
      "\n",
      "Classification Ratios:\n",
      "M: 0.21\n",
      "D: 0.33\n",
      "B: 0.46\n",
      "Music & Both: 67.3076923076923; Dialogue: 32.69230769230769\n",
      "Playing track 1 of 1: TRAINING_DATA/PREPARED/outro/006-20241012_wesat_trump_has_made_a_colorado_town_central_to_his_narrative._residents_want_no_part_of_it_chunk_1.mp3\n"
     ]
    },
    {
     "data": {
      "text/html": [],
      "text/plain": [
       "<IPython.core.display.HTML object>"
      ]
     },
     "metadata": {},
     "output_type": "display_data"
    },
    {
     "name": "stdin",
     "output_type": "stream",
     "text": [
      "Classify this track as M (Music), D (Dialogue), B (Both), or Q (Quit):  b\n"
     ]
    },
    {
     "name": "stdout",
     "output_type": "stream",
     "text": [
      "\n",
      "Classification Ratios:\n",
      "M: 0.00\n",
      "D: 0.67\n",
      "B: 0.33\n",
      "Music & Both: 33.33333333333333; Dialogue: 66.66666666666666\n"
     ]
    },
    {
     "data": {
      "text/plain": [
       "{'M': 0, 'D': 14, 'B': 7}"
      ]
     },
     "execution_count": 96,
     "metadata": {},
     "output_type": "execute_result"
    }
   ],
   "source": [
    "# Extract cluster assignments by cutting the dendrogram\n",
    "# Cut the dendrogram at a specific distance to get 3 clusters\n",
    "## MEDIAN \n",
    "linkage_matrix = sch.linkage(features, method='median')\n",
    "distance_threshold = 5000  # Adjust this value as needed to separate clusters\n",
    "cluster_labels = fcluster(linkage_matrix, distance_threshold, criterion='distance')\n",
    "\n",
    "# Create a DataFrame to analyze clusters\n",
    "cluster_data = pd.DataFrame({'Filename': filenames, 'Cluster': cluster_labels})\n",
    "\n",
    "# Investigate the orange and green clusters (assuming clusters are labeled 1, 2, 3)\n",
    "orange_cluster = cluster_data[cluster_data['Cluster'] == 1]\n",
    "green_cluster = cluster_data[cluster_data['Cluster'] == 2]\n",
    "\n",
    "\n",
    "write_m3u(orange_cluster, 'orange_median.m3u')\n",
    "write_m3u(green_cluster, 'green_median.m3u')\n",
    "\n",
    "play_and_classify_m3u('orange_median.m3u', num_tracks=1)\n",
    "\n",
    "play_and_classify_m3u('green_median.m3u', num_tracks=1)"
   ]
  },
  {
   "cell_type": "code",
   "execution_count": null,
   "id": "21215406-8166-46d3-b9e9-812a1584733a",
   "metadata": {},
   "outputs": [],
   "source": [
    "# Extract cluster assignments by cutting the dendrogram\n",
    "# Cut the dendrogram at a specific distance to get 3 clusters\n",
    "## WARD \n",
    "linkage_matrix = sch.linkage(features, method='ward')\n",
    "distance_threshold = 20000  # Adjust this value as needed to separate clusters\n",
    "cluster_labels = fcluster(linkage_matrix, distance_threshold, criterion='distance')\n",
    "\n",
    "# Create a DataFrame to analyze clusters\n",
    "cluster_data = pd.DataFrame({'Filename': filenames, 'Cluster': cluster_labels})\n",
    "\n",
    "# Investigate the orange and green clusters (assuming clusters are labeled 1, 2, 3)\n",
    "orange_cluster = cluster_data[cluster_data['Cluster'] == 1]\n",
    "green_cluster = cluster_data[cluster_data['Cluster'] == 2]\n",
    "\n",
    "\n",
    "write_m3u(orange_cluster, 'orange_ward.m3u')\n",
    "write_m3u(green_cluster, 'green_ward.m3u')\n",
    "\n",
    "play_and_classify_m3u('orange_ward_.m3u', num_tracks=20)\n",
    "\n",
    "play_and_classify_m3u('green_ward.m3u', num_tracks=20)"
   ]
  },
  {
   "cell_type": "code",
   "execution_count": 48,
   "id": "b664e3f8-4b14-4229-bac9-5818be41b2ea",
   "metadata": {},
   "outputs": [
    {
     "name": "stdout",
     "output_type": "stream",
     "text": [
      "Playing track 1 of 20: TRAINING_DATA/PREPARED/outro/004-20241011_me_environmentalists_say_spacex_is_trashing_texas_chunk_1.mp3\n"
     ]
    },
    {
     "data": {
      "text/html": [],
      "text/plain": [
       "<IPython.core.display.HTML object>"
      ]
     },
     "metadata": {},
     "output_type": "display_data"
    },
    {
     "name": "stdin",
     "output_type": "stream",
     "text": [
      "Classify this track as M (Music), D (Dialogue), B (Both), or Q (Quit):  b\n"
     ]
    },
    {
     "name": "stdout",
     "output_type": "stream",
     "text": [
      "Playing track 2 of 20: TRAINING_DATA/PREPARED/outro/013-20241001_atc_pennsylvania_s_gov._shapiro_is_not_shocked_the_race_is_still_so_close_in_his_state_chunk_1.mp3\n"
     ]
    },
    {
     "data": {
      "text/html": [],
      "text/plain": [
       "<IPython.core.display.HTML object>"
      ]
     },
     "metadata": {},
     "output_type": "display_data"
    },
    {
     "name": "stdin",
     "output_type": "stream",
     "text": [
      "Classify this track as M (Music), D (Dialogue), B (Both), or Q (Quit):  m\n"
     ]
    },
    {
     "name": "stdout",
     "output_type": "stream",
     "text": [
      "Playing track 3 of 20: TRAINING_DATA/PREPARED/outro/019-20241010_atc_unsung_hero-jackie_briggs_chunk_1.mp3\n"
     ]
    },
    {
     "data": {
      "text/html": [],
      "text/plain": [
       "<IPython.core.display.HTML object>"
      ]
     },
     "metadata": {},
     "output_type": "display_data"
    },
    {
     "name": "stdin",
     "output_type": "stream",
     "text": [
      "Classify this track as M (Music), D (Dialogue), B (Both), or Q (Quit):  b\n"
     ]
    },
    {
     "name": "stdout",
     "output_type": "stream",
     "text": [
      "Playing track 4 of 20: TRAINING_DATA/PREPARED/outro/006-20241016_atc_prison_warden_reassigned_again_chunk_1.mp3\n"
     ]
    },
    {
     "data": {
      "text/html": [],
      "text/plain": [
       "<IPython.core.display.HTML object>"
      ]
     },
     "metadata": {},
     "output_type": "display_data"
    },
    {
     "name": "stdin",
     "output_type": "stream",
     "text": [
      "Classify this track as M (Music), D (Dialogue), B (Both), or Q (Quit):  b\n"
     ]
    },
    {
     "name": "stdout",
     "output_type": "stream",
     "text": [
      "Playing track 5 of 20: TRAINING_DATA/PREPARED/outro/015-20241008_me_mountain_hamlet_recovery_chunk_1.mp3\n"
     ]
    },
    {
     "data": {
      "text/html": [],
      "text/plain": [
       "<IPython.core.display.HTML object>"
      ]
     },
     "metadata": {},
     "output_type": "display_data"
    },
    {
     "name": "stdin",
     "output_type": "stream",
     "text": [
      "Classify this track as M (Music), D (Dialogue), B (Both), or Q (Quit):  b\n"
     ]
    },
    {
     "name": "stdout",
     "output_type": "stream",
     "text": [
      "Playing track 6 of 20: TRAINING_DATA/PREPARED/outro/008-20240930_me_helene_and_hot_ocean_water_chunk_1.mp3\n"
     ]
    },
    {
     "data": {
      "text/html": [],
      "text/plain": [
       "<IPython.core.display.HTML object>"
      ]
     },
     "metadata": {},
     "output_type": "display_data"
    },
    {
     "name": "stdin",
     "output_type": "stream",
     "text": [
      "Classify this track as M (Music), D (Dialogue), B (Both), or Q (Quit):  b\n"
     ]
    },
    {
     "name": "stdout",
     "output_type": "stream",
     "text": [
      "Playing track 7 of 20: TRAINING_DATA/PREPARED/outro/003-20241013_atc_prestigious_lasker_prize_awarded_to_south_african_scientists_chunk_1.mp3\n"
     ]
    },
    {
     "data": {
      "text/html": [],
      "text/plain": [
       "<IPython.core.display.HTML object>"
      ]
     },
     "metadata": {},
     "output_type": "display_data"
    },
    {
     "name": "stdin",
     "output_type": "stream",
     "text": [
      "Classify this track as M (Music), D (Dialogue), B (Both), or Q (Quit):  b\n"
     ]
    },
    {
     "name": "stdout",
     "output_type": "stream",
     "text": [
      "Playing track 8 of 20: TRAINING_DATA/PREPARED/outro/016-20241028_me_candidates_in_san_francisco_s_mayoral_race_voice_plans_on_fixing_homelessness_chunk_1.mp3\n"
     ]
    },
    {
     "data": {
      "text/html": [],
      "text/plain": [
       "<IPython.core.display.HTML object>"
      ]
     },
     "metadata": {},
     "output_type": "display_data"
    },
    {
     "name": "stdin",
     "output_type": "stream",
     "text": [
      "Classify this track as M (Music), D (Dialogue), B (Both), or Q (Quit):  b\n"
     ]
    },
    {
     "name": "stdout",
     "output_type": "stream",
     "text": [
      "Playing track 9 of 20: TRAINING_DATA/PREPARED/outro/018-20241004_me_as_helene_swept_through_western_north_carolina_it_flooded_a_critical_factory_chunk_1.mp3\n"
     ]
    },
    {
     "data": {
      "text/html": [],
      "text/plain": [
       "<IPython.core.display.HTML object>"
      ]
     },
     "metadata": {},
     "output_type": "display_data"
    },
    {
     "name": "stdin",
     "output_type": "stream",
     "text": [
      "Classify this track as M (Music), D (Dialogue), B (Both), or Q (Quit):  b\n"
     ]
    },
    {
     "name": "stdout",
     "output_type": "stream",
     "text": [
      "Playing track 10 of 20: TRAINING_DATA/PREPARED/outro/008-20241018_me_china_repeatedly_threatens_to_invade_taiwan._what_would_an_invasion_look_like_chunk_1.mp3\n"
     ]
    },
    {
     "data": {
      "text/html": [],
      "text/plain": [
       "<IPython.core.display.HTML object>"
      ]
     },
     "metadata": {},
     "output_type": "display_data"
    },
    {
     "name": "stdin",
     "output_type": "stream",
     "text": [
      "Classify this track as M (Music), D (Dialogue), B (Both), or Q (Quit):  b\n"
     ]
    },
    {
     "name": "stdout",
     "output_type": "stream",
     "text": [
      "Playing track 11 of 20: TRAINING_DATA/PREPARED/outro/003-20241014_atc_europa_clipper_launch_chunk_1.mp3\n"
     ]
    },
    {
     "data": {
      "text/html": [],
      "text/plain": [
       "<IPython.core.display.HTML object>"
      ]
     },
     "metadata": {},
     "output_type": "display_data"
    },
    {
     "name": "stdin",
     "output_type": "stream",
     "text": [
      "Classify this track as M (Music), D (Dialogue), B (Both), or Q (Quit):  b\n"
     ]
    },
    {
     "name": "stdout",
     "output_type": "stream",
     "text": [
      "Playing track 12 of 20: TRAINING_DATA/PREPARED/outro/014-20240927_atc_gps_back-up_atc_chunk_1.mp3\n"
     ]
    },
    {
     "data": {
      "text/html": [],
      "text/plain": [
       "<IPython.core.display.HTML object>"
      ]
     },
     "metadata": {},
     "output_type": "display_data"
    },
    {
     "name": "stdin",
     "output_type": "stream",
     "text": [
      "Classify this track as M (Music), D (Dialogue), B (Both), or Q (Quit):  d\n"
     ]
    },
    {
     "name": "stdout",
     "output_type": "stream",
     "text": [
      "Playing track 13 of 20: TRAINING_DATA/PREPARED/outro/006-20241014_me_library_as_entrepreneurial_hub_chunk_1.mp3\n"
     ]
    },
    {
     "data": {
      "text/html": [],
      "text/plain": [
       "<IPython.core.display.HTML object>"
      ]
     },
     "metadata": {},
     "output_type": "display_data"
    },
    {
     "name": "stdin",
     "output_type": "stream",
     "text": [
      "Classify this track as M (Music), D (Dialogue), B (Both), or Q (Quit):  b\n"
     ]
    },
    {
     "name": "stdout",
     "output_type": "stream",
     "text": [
      "Playing track 14 of 20: TRAINING_DATA/PREPARED/outro/005-20241024_atc_ca-22_running_towards_the_middle_chunk_1.mp3\n"
     ]
    },
    {
     "data": {
      "text/html": [],
      "text/plain": [
       "<IPython.core.display.HTML object>"
      ]
     },
     "metadata": {},
     "output_type": "display_data"
    },
    {
     "name": "stdin",
     "output_type": "stream",
     "text": [
      "Classify this track as M (Music), D (Dialogue), B (Both), or Q (Quit):  b\n"
     ]
    },
    {
     "name": "stdout",
     "output_type": "stream",
     "text": [
      "Playing track 15 of 20: TRAINING_DATA/PREPARED/outro/014-20241019_wesat_school_counselors_are_using_creative_ways_to_help_kids_cope_with_the_trauma_of_floods_chunk_1.mp3\n"
     ]
    },
    {
     "data": {
      "text/html": [],
      "text/plain": [
       "<IPython.core.display.HTML object>"
      ]
     },
     "metadata": {},
     "output_type": "display_data"
    },
    {
     "name": "stdin",
     "output_type": "stream",
     "text": [
      "Classify this track as M (Music), D (Dialogue), B (Both), or Q (Quit):  m\n"
     ]
    },
    {
     "name": "stdout",
     "output_type": "stream",
     "text": [
      "Playing track 16 of 20: TRAINING_DATA/PREPARED/outro/012-20241030_atc_white_house_tours_get_a_revamp_chunk_1.mp3\n"
     ]
    },
    {
     "data": {
      "text/html": [],
      "text/plain": [
       "<IPython.core.display.HTML object>"
      ]
     },
     "metadata": {},
     "output_type": "display_data"
    },
    {
     "name": "stdin",
     "output_type": "stream",
     "text": [
      "Classify this track as M (Music), D (Dialogue), B (Both), or Q (Quit):  m\n"
     ]
    },
    {
     "name": "stdout",
     "output_type": "stream",
     "text": [
      "Playing track 17 of 20: TRAINING_DATA/PREPARED/outro/013-20241007_atc_keeping_the_faith_and_staying_hopeful_through_the_darkness-one_rabbi_s_perspective_on_october_7th_chunk_1.mp3\n"
     ]
    },
    {
     "data": {
      "text/html": [],
      "text/plain": [
       "<IPython.core.display.HTML object>"
      ]
     },
     "metadata": {},
     "output_type": "display_data"
    },
    {
     "name": "stdin",
     "output_type": "stream",
     "text": [
      "Classify this track as M (Music), D (Dialogue), B (Both), or Q (Quit):  b\n"
     ]
    },
    {
     "name": "stdout",
     "output_type": "stream",
     "text": [
      "Playing track 18 of 20: TRAINING_DATA/PREPARED/outro/014-20241021_atc_summit_to_save_nature_chunk_1.mp3\n"
     ]
    },
    {
     "data": {
      "text/html": [],
      "text/plain": [
       "<IPython.core.display.HTML object>"
      ]
     },
     "metadata": {},
     "output_type": "display_data"
    },
    {
     "name": "stdin",
     "output_type": "stream",
     "text": [
      "Classify this track as M (Music), D (Dialogue), B (Both), or Q (Quit):  m\n"
     ]
    },
    {
     "name": "stdout",
     "output_type": "stream",
     "text": [
      "Playing track 19 of 20: TRAINING_DATA/PREPARED/outro/018-20241016_atc_mexican_restaurant_week_chunk_1.mp3\n"
     ]
    },
    {
     "data": {
      "text/html": [],
      "text/plain": [
       "<IPython.core.display.HTML object>"
      ]
     },
     "metadata": {},
     "output_type": "display_data"
    },
    {
     "name": "stdin",
     "output_type": "stream",
     "text": [
      "Classify this track as M (Music), D (Dialogue), B (Both), or Q (Quit):  m\n"
     ]
    },
    {
     "name": "stdout",
     "output_type": "stream",
     "text": [
      "Playing track 20 of 20: TRAINING_DATA/PREPARED/outro/003-20241005_wesat_opinion_political_texts_are_pinging_off_the_rails_chunk_1.mp3\n"
     ]
    },
    {
     "data": {
      "text/html": [],
      "text/plain": [
       "<IPython.core.display.HTML object>"
      ]
     },
     "metadata": {},
     "output_type": "display_data"
    },
    {
     "name": "stdin",
     "output_type": "stream",
     "text": [
      "Classify this track as M (Music), D (Dialogue), B (Both), or Q (Quit):  b\n"
     ]
    },
    {
     "name": "stdout",
     "output_type": "stream",
     "text": [
      "\n",
      "Classification Ratios:\n",
      "M: 0.25\n",
      "D: 0.05\n",
      "B: 0.70\n",
      "Music & Both: 95.0; Dialogue: 5.0\n",
      "Playing track 1 of 20: TRAINING_DATA/PREPARED/outro/014-20241008_atc_longevity_analysis_chunk_1.mp3\n"
     ]
    },
    {
     "data": {
      "text/html": [],
      "text/plain": [
       "<IPython.core.display.HTML object>"
      ]
     },
     "metadata": {},
     "output_type": "display_data"
    },
    {
     "name": "stdin",
     "output_type": "stream",
     "text": [
      "Classify this track as M (Music), D (Dialogue), B (Both), or Q (Quit):  b\n"
     ]
    },
    {
     "name": "stdout",
     "output_type": "stream",
     "text": [
      "Playing track 2 of 20: TRAINING_DATA/PREPARED/outro/015-20241013_wesun_river_runners_are_celebrating_whitewater_rapids_re-emerging_in_colorado_s_lake_powell_chunk_1.mp3\n"
     ]
    },
    {
     "data": {
      "text/html": [],
      "text/plain": [
       "<IPython.core.display.HTML object>"
      ]
     },
     "metadata": {},
     "output_type": "display_data"
    },
    {
     "name": "stdin",
     "output_type": "stream",
     "text": [
      "Classify this track as M (Music), D (Dialogue), B (Both), or Q (Quit):  d\n"
     ]
    },
    {
     "name": "stdout",
     "output_type": "stream",
     "text": [
      "Playing track 3 of 20: TRAINING_DATA/PREPARED/outro/011-20241004_atc_with_fafsa_delayed_again_students_are_uncertain_about_how_to_stay_in_school_chunk_1.mp3\n"
     ]
    },
    {
     "data": {
      "text/html": [],
      "text/plain": [
       "<IPython.core.display.HTML object>"
      ]
     },
     "metadata": {},
     "output_type": "display_data"
    },
    {
     "name": "stdin",
     "output_type": "stream",
     "text": [
      "Classify this track as M (Music), D (Dialogue), B (Both), or Q (Quit):  b\n"
     ]
    },
    {
     "name": "stdout",
     "output_type": "stream",
     "text": [
      "Playing track 4 of 20: TRAINING_DATA/PREPARED/outro/016-20241025_atc_army_report_arlington_chunk_1.mp3\n"
     ]
    },
    {
     "data": {
      "text/html": [],
      "text/plain": [
       "<IPython.core.display.HTML object>"
      ]
     },
     "metadata": {},
     "output_type": "display_data"
    },
    {
     "name": "stdin",
     "output_type": "stream",
     "text": [
      "Classify this track as M (Music), D (Dialogue), B (Both), or Q (Quit):  d\n"
     ]
    },
    {
     "name": "stdout",
     "output_type": "stream",
     "text": [
      "Playing track 5 of 20: TRAINING_DATA/PREPARED/outro/007-20241023_me_hispanic_voters_speak_out_in_allentown_pa._a_majority_latino_city_chunk_1.mp3\n"
     ]
    },
    {
     "data": {
      "text/html": [],
      "text/plain": [
       "<IPython.core.display.HTML object>"
      ]
     },
     "metadata": {},
     "output_type": "display_data"
    },
    {
     "name": "stdin",
     "output_type": "stream",
     "text": [
      "Classify this track as M (Music), D (Dialogue), B (Both), or Q (Quit):  b\n"
     ]
    },
    {
     "name": "stdout",
     "output_type": "stream",
     "text": [
      "Playing track 6 of 20: TRAINING_DATA/PREPARED/outro/009-20241015_me_songs_that_move_you_ojal_que_llueva_caf_by_juan_luis_guerra_chunk_1.mp3\n"
     ]
    },
    {
     "data": {
      "text/html": [],
      "text/plain": [
       "<IPython.core.display.HTML object>"
      ]
     },
     "metadata": {},
     "output_type": "display_data"
    },
    {
     "name": "stdin",
     "output_type": "stream",
     "text": [
      "Classify this track as M (Music), D (Dialogue), B (Both), or Q (Quit):  m\n"
     ]
    },
    {
     "name": "stdout",
     "output_type": "stream",
     "text": [
      "Playing track 7 of 20: TRAINING_DATA/PREPARED/outro/013-20241012_wesat_extremism_experts_are_keeping_an_eye_on_an_event_targeted_at_women_in_washington_d.c._chunk_1.mp3\n"
     ]
    },
    {
     "data": {
      "text/html": [],
      "text/plain": [
       "<IPython.core.display.HTML object>"
      ]
     },
     "metadata": {},
     "output_type": "display_data"
    },
    {
     "name": "stdin",
     "output_type": "stream",
     "text": [
      "Classify this track as M (Music), D (Dialogue), B (Both), or Q (Quit):  d\n"
     ]
    },
    {
     "name": "stdout",
     "output_type": "stream",
     "text": [
      "Playing track 8 of 20: TRAINING_DATA/PREPARED/outro/007-20241001_me_experts_deadly_flow_of_fentanyl_into_the_u.s._is_drying_up_chunk_1.mp3\n"
     ]
    },
    {
     "data": {
      "text/html": [],
      "text/plain": [
       "<IPython.core.display.HTML object>"
      ]
     },
     "metadata": {},
     "output_type": "display_data"
    },
    {
     "name": "stdin",
     "output_type": "stream",
     "text": [
      "Classify this track as M (Music), D (Dialogue), B (Both), or Q (Quit):  d\n"
     ]
    },
    {
     "name": "stdout",
     "output_type": "stream",
     "text": [
      "Playing track 9 of 20: TRAINING_DATA/PREPARED/outro/001-20241026_wesat_israel_conducts_retaliatory_airstrikes_against_iran_chunk_1.mp3\n"
     ]
    },
    {
     "data": {
      "text/html": [],
      "text/plain": [
       "<IPython.core.display.HTML object>"
      ]
     },
     "metadata": {},
     "output_type": "display_data"
    },
    {
     "name": "stdin",
     "output_type": "stream",
     "text": [
      "Classify this track as M (Music), D (Dialogue), B (Both), or Q (Quit):  d\n"
     ]
    },
    {
     "name": "stdout",
     "output_type": "stream",
     "text": [
      "Playing track 10 of 20: TRAINING_DATA/PREPARED/outro/016-20241020_wesun_researchers_are_skeptical_of_this_gunfire_detection_system._chicago_no_longer_uses_it_chunk_1.mp3\n"
     ]
    },
    {
     "data": {
      "text/html": [],
      "text/plain": [
       "<IPython.core.display.HTML object>"
      ]
     },
     "metadata": {},
     "output_type": "display_data"
    },
    {
     "name": "stdin",
     "output_type": "stream",
     "text": [
      "Classify this track as M (Music), D (Dialogue), B (Both), or Q (Quit):  b\n"
     ]
    },
    {
     "name": "stdout",
     "output_type": "stream",
     "text": [
      "Playing track 11 of 20: TRAINING_DATA/PREPARED/outro/014-20241023_atc_shareholder_nuns_chunk_1.mp3\n"
     ]
    },
    {
     "data": {
      "text/html": [],
      "text/plain": [
       "<IPython.core.display.HTML object>"
      ]
     },
     "metadata": {},
     "output_type": "display_data"
    },
    {
     "name": "stdin",
     "output_type": "stream",
     "text": [
      "Classify this track as M (Music), D (Dialogue), B (Both), or Q (Quit):  b\n"
     ]
    },
    {
     "name": "stdout",
     "output_type": "stream",
     "text": [
      "Playing track 12 of 20: TRAINING_DATA/PREPARED/outro/010-20241015_atc_az-latina_voters_on_abortion_chunk_1.mp3\n"
     ]
    },
    {
     "data": {
      "text/html": [],
      "text/plain": [
       "<IPython.core.display.HTML object>"
      ]
     },
     "metadata": {},
     "output_type": "display_data"
    },
    {
     "name": "stdin",
     "output_type": "stream",
     "text": [
      "Classify this track as M (Music), D (Dialogue), B (Both), or Q (Quit):  b\n"
     ]
    },
    {
     "name": "stdout",
     "output_type": "stream",
     "text": [
      "Playing track 13 of 20: TRAINING_DATA/PREPARED/outro/005-20241002_atc_remembering_john_amos_chunk_1.mp3\n"
     ]
    },
    {
     "data": {
      "text/html": [],
      "text/plain": [
       "<IPython.core.display.HTML object>"
      ]
     },
     "metadata": {},
     "output_type": "display_data"
    },
    {
     "name": "stdin",
     "output_type": "stream",
     "text": [
      "Classify this track as M (Music), D (Dialogue), B (Both), or Q (Quit):  b\n"
     ]
    },
    {
     "name": "stdout",
     "output_type": "stream",
     "text": [
      "Playing track 14 of 20: TRAINING_DATA/PREPARED/outro/003-20241017_me_u.k._mulls_sanctions_on_israeli_ministers_for_remarks_describe_as_abhorrent_chunk_1.mp3\n"
     ]
    },
    {
     "data": {
      "text/html": [],
      "text/plain": [
       "<IPython.core.display.HTML object>"
      ]
     },
     "metadata": {},
     "output_type": "display_data"
    },
    {
     "name": "stdin",
     "output_type": "stream",
     "text": [
      "Classify this track as M (Music), D (Dialogue), B (Both), or Q (Quit):  d\n"
     ]
    },
    {
     "name": "stdout",
     "output_type": "stream",
     "text": [
      "Playing track 15 of 20: TRAINING_DATA/PREPARED/outro/001-20241007_me_morning_news_brief_chunk_1.mp3\n"
     ]
    },
    {
     "data": {
      "text/html": [],
      "text/plain": [
       "<IPython.core.display.HTML object>"
      ]
     },
     "metadata": {},
     "output_type": "display_data"
    },
    {
     "name": "stdin",
     "output_type": "stream",
     "text": [
      "Classify this track as M (Music), D (Dialogue), B (Both), or Q (Quit):  d\n"
     ]
    },
    {
     "name": "stdout",
     "output_type": "stream",
     "text": [
      "Playing track 16 of 20: TRAINING_DATA/PREPARED/outro/004-20241027_atc_dua_lipa_talks_about_her_new_album_and_playing_a_venue_like_the_tiny_desk_chunk_1.mp3\n"
     ]
    },
    {
     "data": {
      "text/html": [],
      "text/plain": [
       "<IPython.core.display.HTML object>"
      ]
     },
     "metadata": {},
     "output_type": "display_data"
    },
    {
     "name": "stdin",
     "output_type": "stream",
     "text": [
      "Classify this track as M (Music), D (Dialogue), B (Both), or Q (Quit):  b\n"
     ]
    },
    {
     "name": "stdout",
     "output_type": "stream",
     "text": [
      "Playing track 17 of 20: TRAINING_DATA/PREPARED/outro/018-20241026_wesat_a_new_graphic_novel_reimagines_huckleberry_finn_chunk_1.mp3\n"
     ]
    },
    {
     "data": {
      "text/html": [],
      "text/plain": [
       "<IPython.core.display.HTML object>"
      ]
     },
     "metadata": {},
     "output_type": "display_data"
    },
    {
     "name": "stdin",
     "output_type": "stream",
     "text": [
      "Classify this track as M (Music), D (Dialogue), B (Both), or Q (Quit):  d\n"
     ]
    },
    {
     "name": "stdout",
     "output_type": "stream",
     "text": [
      "Playing track 18 of 20: TRAINING_DATA/PREPARED/outro/002-20241005_wesat_week_in_politics_presidential_race_continues_to_be_tied_a_month_before_the_election_chunk_1.mp3\n"
     ]
    },
    {
     "data": {
      "text/html": [],
      "text/plain": [
       "<IPython.core.display.HTML object>"
      ]
     },
     "metadata": {},
     "output_type": "display_data"
    },
    {
     "name": "stdin",
     "output_type": "stream",
     "text": [
      "Classify this track as M (Music), D (Dialogue), B (Both), or Q (Quit):  d\n"
     ]
    },
    {
     "name": "stdout",
     "output_type": "stream",
     "text": [
      "Playing track 19 of 20: TRAINING_DATA/PREPARED/outro/016-20240926_atc_larry_hoover_hearing_chunk_1.mp3\n"
     ]
    },
    {
     "data": {
      "text/html": [],
      "text/plain": [
       "<IPython.core.display.HTML object>"
      ]
     },
     "metadata": {},
     "output_type": "display_data"
    },
    {
     "name": "stdin",
     "output_type": "stream",
     "text": [
      "Classify this track as M (Music), D (Dialogue), B (Both), or Q (Quit):  m\n"
     ]
    },
    {
     "name": "stdout",
     "output_type": "stream",
     "text": [
      "Playing track 20 of 20: TRAINING_DATA/PREPARED/outro/004-20241009_atc_mixed-income_public_housing_chunk_1.mp3\n"
     ]
    },
    {
     "data": {
      "text/html": [],
      "text/plain": [
       "<IPython.core.display.HTML object>"
      ]
     },
     "metadata": {},
     "output_type": "display_data"
    },
    {
     "name": "stdin",
     "output_type": "stream",
     "text": [
      "Classify this track as M (Music), D (Dialogue), B (Both), or Q (Quit):  d\n"
     ]
    },
    {
     "name": "stdout",
     "output_type": "stream",
     "text": [
      "\n",
      "Classification Ratios:\n",
      "M: 0.10\n",
      "D: 0.50\n",
      "B: 0.40\n",
      "Music & Both: 50.0; Dialogue: 50.0\n"
     ]
    },
    {
     "data": {
      "text/plain": [
       "{'M': 2, 'D': 10, 'B': 8}"
      ]
     },
     "execution_count": 48,
     "metadata": {},
     "output_type": "execute_result"
    }
   ],
   "source": [
    "# Extract cluster assignments by cutting the dendrogram\n",
    "# Cut the dendrogram at a specific distance to get 3 clusters\n",
    "## WARD \n",
    "linkage_matrix = sch.linkage(features, method='complete')\n",
    "distance_threshold = 10000  # Adjust this value as needed to separate clusters\n",
    "cluster_labels = fcluster(linkage_matrix, distance_threshold, criterion='distance')\n",
    "\n",
    "# Create a DataFrame to analyze clusters\n",
    "cluster_data = pd.DataFrame({'Filename': filenames, 'Cluster': cluster_labels})\n",
    "\n",
    "# Investigate the orange and green clusters (assuming clusters are labeled 1, 2, 3)\n",
    "orange_cluster = cluster_data[cluster_data['Cluster'] == 1]\n",
    "green_cluster = cluster_data[cluster_data['Cluster'] == 2]\n",
    "\n",
    "\n",
    "write_m3u(orange_cluster, 'orange_complete.m3u')\n",
    "write_m3u(green_cluster, 'green_complete.m3u')\n",
    "\n",
    "play_and_classify_m3u('orange_complete.m3u', num_tracks=20)\n",
    "\n",
    "play_and_classify_m3u('green_complete.m3u', num_tracks=20)"
   ]
  },
  {
   "cell_type": "markdown",
   "id": "783f8bc9-64d0-4818-a969-85c4a51d7b57",
   "metadata": {},
   "source": [
    "## Linkage Method Results"
   ]
  },
  {
   "cell_type": "markdown",
   "id": "566513a2-7b87-47bf-9930-0fafe81d576d",
   "metadata": {},
   "source": [
    "### Median\n",
    "\n",
    "**Green Cluster**: \n",
    "\n",
    "- Music & Both: 33%\n",
    "- Dialogue: 67%\n",
    "\n",
    "**Orange Cluster**:\n",
    "\n",
    "- Music & Both: 67%\n",
    "- Dialogue: 32%"
   ]
  },
  {
   "cell_type": "code",
   "execution_count": 98,
   "id": "44433dec-8ad6-4b20-8ccf-e0e073f4fb50",
   "metadata": {},
   "outputs": [
    {
     "name": "stdout",
     "output_type": "stream",
     "text": [
      "({'M': 0, 'D': 14, 'B': 7}, {'Music & Both': 0.3333333333333333, 'Dialogue': 0.6666666666666666})\n",
      "({'M': 11, 'D': 17, 'B': 24}, {'Music & Both': 0.6730769230769231, 'Dialogue': 0.3269230769230769})\n"
     ]
    }
   ],
   "source": [
    "print(read_classifications('./green_median_classification.csv'))\n",
    "print(read_classifications('./orange_median_classification.csv'))"
   ]
  },
  {
   "cell_type": "markdown",
   "id": "8f14bd52-0f09-425f-b751-0553ad87d858",
   "metadata": {},
   "source": [
    "### Complete\n",
    "\n",
    "**Green Cluster**:\n",
    "\n",
    "- Music & Both: 50%\n",
    "- Dialogue: 50%\n",
    "\n",
    "**Oragne Cluster**:\n",
    "\n",
    "- Music & Both: 95%\n",
    "- Dialogue: 5%"
   ]
  },
  {
   "cell_type": "code",
   "execution_count": 99,
   "id": "592808d1-d3bd-42d9-9c36-ee3aa78fc264",
   "metadata": {},
   "outputs": [
    {
     "name": "stdout",
     "output_type": "stream",
     "text": [
      "({'M': 2, 'D': 10, 'B': 8}, {'Music & Both': 0.5, 'Dialogue': 0.5})\n",
      "({'M': 5, 'D': 1, 'B': 14}, {'Music & Both': 0.95, 'Dialogue': 0.05})\n"
     ]
    }
   ],
   "source": [
    "print(read_classifications('./green_complete_classification.csv'))\n",
    "print(read_classifications('./orange_complete_classification.csv'))"
   ]
  },
  {
   "cell_type": "markdown",
   "id": "197db79b-2e24-4753-b01e-97393fc11871",
   "metadata": {},
   "source": [
    "### Ward\n",
    "\n",
    "**Green Cluster**:\n",
    "\n",
    "- Music & Both: 37%\n",
    "- Dialogue: 63%\n",
    "\n",
    "**Oragne Cluster**:\n",
    "\n",
    "- Music & Both: 100%\n",
    "- Dialogue: 0%"
   ]
  },
  {
   "cell_type": "code",
   "execution_count": 100,
   "id": "9082008f-63ff-4536-b7ea-5e4feb2e589e",
   "metadata": {},
   "outputs": [
    {
     "name": "stdout",
     "output_type": "stream",
     "text": [
      "({'M': 2, 'D': 19, 'B': 9}, {'Music & Both': 0.36666666666666664, 'Dialogue': 0.6333333333333333})\n",
      "({'M': 9, 'D': 0, 'B': 21}, {'Music & Both': 1.0, 'Dialogue': 0.0})\n"
     ]
    }
   ],
   "source": [
    "print(read_classifications('./green_ward_classification.csv'))\n",
    "print(read_classifications('./orange_ward_classification.csv'))"
   ]
  }
 ],
 "metadata": {
  "kernelspec": {
   "display_name": "ml_audio_id-venv-9ab27db4d3",
   "language": "python",
   "name": "ml_audio_id-venv-9ab27db4d3"
  },
  "language_info": {
   "codemirror_mode": {
    "name": "ipython",
    "version": 3
   },
   "file_extension": ".py",
   "mimetype": "text/x-python",
   "name": "python",
   "nbconvert_exporter": "python",
   "pygments_lexer": "ipython3",
   "version": "3.12.5"
  }
 },
 "nbformat": 4,
 "nbformat_minor": 5
}
